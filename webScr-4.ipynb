{
 "cells": [
  {
   "cell_type": "raw",
   "id": "steady-plasma",
   "metadata": {},
   "source": [
    "4. Scrape the details of State-wise GDP of India from statisticstime.com.\n",
    "Url = http://statisticstimes.com/\n",
    "You have to find following details:\n",
    "A) Rank\n",
    "B) State\n",
    "C) GSDP at current price (19-20)\n",
    "D) GSDP at current price (18-19)\n",
    "E) Share(18-19)\n",
    "F) GDP($ billion)\n",
    "Note: - From statisticstimes home page you have to reach to economy page through code."
   ]
  },
  {
   "cell_type": "code",
   "execution_count": 1,
   "id": "proof-reggae",
   "metadata": {},
   "outputs": [],
   "source": [
    "import pandas as pd\n",
    "import selenium\n",
    "from selenium import webdriver\n",
    "from selenium.common.exceptions import StaleElementReferenceException, NoSuchElementException"
   ]
  },
  {
   "cell_type": "code",
   "execution_count": 2,
   "id": "dried-amateur",
   "metadata": {},
   "outputs": [],
   "source": [
    "import requests\n",
    "from selenium import webdriver\n",
    "\n",
    "browser = webdriver.Chrome()\n",
    "\n",
    "browser.get(\"https://m.statisticstimes.com/economy/india/indian-states-gdp.php\")\n",
    "from bs4 import BeautifulSoup"
   ]
  },
  {
   "cell_type": "code",
   "execution_count": 3,
   "id": "front-bosnia",
   "metadata": {},
   "outputs": [],
   "source": [
    "ranks=[]"
   ]
  },
  {
   "cell_type": "code",
   "execution_count": 4,
   "id": "resident-blackjack",
   "metadata": {},
   "outputs": [],
   "source": [
    "rank_tags=browser.find_elements_by_xpath(\"//td[@class='data1']\")\n",
    "for i in rank_tags:\n",
    "    if i.text is None :\n",
    "        ranks.append(\"no rating\") \n",
    "    else:\n",
    "        ranks.append(i.text)"
   ]
  },
  {
   "cell_type": "code",
   "execution_count": 5,
   "id": "german-happiness",
   "metadata": {},
   "outputs": [
    {
     "data": {
      "text/plain": [
       "['1',\n",
       " '2',\n",
       " '3',\n",
       " '4',\n",
       " '5',\n",
       " '6',\n",
       " '7',\n",
       " '8',\n",
       " '9',\n",
       " '10',\n",
       " '11',\n",
       " '12',\n",
       " '13',\n",
       " '14',\n",
       " '15',\n",
       " '16',\n",
       " '17',\n",
       " '18',\n",
       " '19',\n",
       " '20',\n",
       " '21',\n",
       " '22',\n",
       " '23',\n",
       " '24',\n",
       " '25',\n",
       " '26',\n",
       " '27',\n",
       " '28',\n",
       " '29',\n",
       " '30',\n",
       " '31',\n",
       " '32',\n",
       " '33']"
      ]
     },
     "execution_count": 5,
     "metadata": {},
     "output_type": "execute_result"
    }
   ],
   "source": [
    "ranks[0:33]"
   ]
  },
  {
   "cell_type": "code",
   "execution_count": 6,
   "id": "vocational-miniature",
   "metadata": {},
   "outputs": [],
   "source": [
    "names=[]"
   ]
  },
  {
   "cell_type": "code",
   "execution_count": 7,
   "id": "variable-adventure",
   "metadata": {},
   "outputs": [],
   "source": [
    "name_tags=browser.find_elements_by_xpath(\"//td[@class='name']\")\n",
    "for i in name_tags:\n",
    "    if i.text is None :\n",
    "        names.append(\"no rating\") \n",
    "    else:\n",
    "        names.append(i.text)"
   ]
  },
  {
   "cell_type": "code",
   "execution_count": 8,
   "id": "focal-boring",
   "metadata": {},
   "outputs": [
    {
     "data": {
      "text/plain": [
       "['Maharashtra',\n",
       " 'Tamil Nadu',\n",
       " 'Uttar Pradesh',\n",
       " 'Gujarat',\n",
       " 'Karnataka',\n",
       " 'West Bengal',\n",
       " 'Rajasthan',\n",
       " 'Andhra Pradesh',\n",
       " 'Telangana',\n",
       " 'Madhya Pradesh',\n",
       " 'Kerala',\n",
       " 'Delhi',\n",
       " 'Haryana',\n",
       " 'Bihar',\n",
       " 'Punjab',\n",
       " 'Odisha',\n",
       " 'Assam',\n",
       " 'Chhattisgarh',\n",
       " 'Jharkhand',\n",
       " 'Uttarakhand',\n",
       " 'Jammu & Kashmir',\n",
       " 'Himachal Pradesh',\n",
       " 'Goa',\n",
       " 'Tripura',\n",
       " 'Chandigarh',\n",
       " 'Puducherry',\n",
       " 'Meghalaya',\n",
       " 'Sikkim',\n",
       " 'Manipur',\n",
       " 'Nagaland',\n",
       " 'Arunachal Pradesh',\n",
       " 'Mizoram',\n",
       " 'Andaman & Nicobar Islands']"
      ]
     },
     "execution_count": 8,
     "metadata": {},
     "output_type": "execute_result"
    }
   ],
   "source": [
    "names[0:33]"
   ]
  },
  {
   "cell_type": "code",
   "execution_count": 9,
   "id": "signed-johnson",
   "metadata": {},
   "outputs": [],
   "source": [
    "gsdp19=[]"
   ]
  },
  {
   "cell_type": "code",
   "execution_count": 10,
   "id": "electric-investigation",
   "metadata": {},
   "outputs": [],
   "source": [
    "gsdp19_tags=browser.find_elements_by_xpath(\"//td[@class='data']\")\n",
    "for i in gsdp19_tags:\n",
    "    if i.text is None :\n",
    "        gsdp19.append(\"no rating\") \n",
    "    else:\n",
    "        gsdp19.append(i.text)"
   ]
  },
  {
   "cell_type": "code",
   "execution_count": 11,
   "id": "fuzzy-diana",
   "metadata": {},
   "outputs": [
    {
     "data": {
      "text/plain": [
       "['-',\n",
       " '13.94%',\n",
       " '399.921',\n",
       " '-',\n",
       " '2,039,074',\n",
       " '1,845,853',\n",
       " '8.63%',\n",
       " '247.629',\n",
       " '1,312,929',\n",
       " '1,215,307',\n",
       " '1,687,818',\n",
       " '8.39%',\n",
       " '240.726',\n",
       " '1,166,817',\n",
       " '1,123,982',\n",
       " '-',\n",
       " '7.96%',\n",
       " '228.290',\n",
       " '-',\n",
       " '1,186,379',\n",
       " '1,631,977',\n",
       " '7.91%',\n",
       " '226.806',\n",
       " '1,156,039',\n",
       " '1,091,077',\n",
       " '1,253,832',\n",
       " '5.77%',\n",
       " '165.556',\n",
       " '793,223',\n",
       " '739,525',\n",
       " '1,020,989',\n",
       " '4.99%',\n",
       " '143.179',\n",
       " '711,627',\n",
       " '677,428',\n",
       " '972,782',\n",
       " '4.57%',\n",
       " '131.083',\n",
       " '672,018',\n",
       " '621,301',\n",
       " '969,604',\n",
       " '4.56%',\n",
       " '130.791',\n",
       " '663,258',\n",
       " '612,828',\n",
       " '906,672',\n",
       " '4.29%',\n",
       " '122.977',\n",
       " '561,801',\n",
       " '522,009',\n",
       " '-',\n",
       " '4.14%',\n",
       " '118.733',\n",
       " '-',\n",
       " '559,412',\n",
       " '856,112',\n",
       " '4.10%',\n",
       " '117.703',\n",
       " '634,408',\n",
       " '590,569',\n",
       " '831,610',\n",
       " '3.89%',\n",
       " '111.519',\n",
       " '572,240',\n",
       " '531,085',\n",
       " '611,804',\n",
       " '2.81%',\n",
       " '80.562',\n",
       " '414,977',\n",
       " '375,651',\n",
       " '574,760',\n",
       " '2.79%',\n",
       " '79.957',\n",
       " '418,868',\n",
       " '397,669',\n",
       " '521,275',\n",
       " '2.58%',\n",
       " '74.098',\n",
       " '396,499',\n",
       " '376,877',\n",
       " '-',\n",
       " '1.67%',\n",
       " '47.982',\n",
       " '-',\n",
       " '234,048',\n",
       " '329,180',\n",
       " '1.61%',\n",
       " '46.187',\n",
       " '243,477',\n",
       " '231,182',\n",
       " '328,598',\n",
       " '1.57%',\n",
       " '45.145',\n",
       " '240,036',\n",
       " '224,986',\n",
       " '-',\n",
       " '1.30%',\n",
       " '37.351',\n",
       " '-',\n",
       " '193,273',\n",
       " '-',\n",
       " '0.83%',\n",
       " '23.690',\n",
       " '-',\n",
       " '112,755',\n",
       " '165,472',\n",
       " '0.81%',\n",
       " '23.369',\n",
       " '124,403',\n",
       " '117,851',\n",
       " '80,449',\n",
       " '0.39%',\n",
       " '11.115',\n",
       " '63,408',\n",
       " '57,787',\n",
       " '55,984',\n",
       " '0.26%',\n",
       " '7.571',\n",
       " '40,583',\n",
       " '36,963',\n",
       " '-',\n",
       " '0.22%',\n",
       " '6.397',\n",
       " '-',\n",
       " '31,192',\n",
       " '38,253',\n",
       " '0.18%',\n",
       " '5.230',\n",
       " '25,093',\n",
       " '23,013',\n",
       " '36,572',\n",
       " '0.18%',\n",
       " '5.086',\n",
       " '26,695',\n",
       " '24,682',\n",
       " '32,496',\n",
       " '0.15%',\n",
       " '4.363',\n",
       " '20,017',\n",
       " '18,722',\n",
       " '31,790',\n",
       " '0.15%',\n",
       " '4.233',\n",
       " '20,673',\n",
       " '19,300',\n",
       " '-',\n",
       " '0.14%',\n",
       " '4.144',\n",
       " '-',\n",
       " '17,647',\n",
       " '-',\n",
       " '0.13%',\n",
       " '3.737',\n",
       " '-',\n",
       " '16,676',\n",
       " '26,503',\n",
       " '0.12%',\n",
       " '3.385',\n",
       " '18,797',\n",
       " '16,478',\n",
       " '-',\n",
       " '-',\n",
       " '-',\n",
       " '-',\n",
       " '-',\n",
       " '20,351,013',\n",
       " '18,886,957',\n",
       " '',\n",
       " '2,869',\n",
       " '14,569,268',\n",
       " '14,003,316',\n",
       " '-',\n",
       " '13.97%',\n",
       " '-',\n",
       " '1,794,123',\n",
       " '1,659,210',\n",
       " '8.77%',\n",
       " '1,167,776',\n",
       " '1,079,894',\n",
       " '1,495,758',\n",
       " '8.41%',\n",
       " '1,015,735',\n",
       " '979,159',\n",
       " '1,476,983',\n",
       " '8.09%',\n",
       " '1,035,131',\n",
       " '976,948',\n",
       " '-',\n",
       " '7.92%',\n",
       " '-',\n",
       " '1,036,859',\n",
       " '1,150,711',\n",
       " '5.96%',\n",
       " '713,376',\n",
       " '662,432',\n",
       " '916,014',\n",
       " '5.06%',\n",
       " '630,693',\n",
       " '600,433',\n",
       " '881,873',\n",
       " '4.68%',\n",
       " '594,806',\n",
       " '549,481',\n",
       " '875,429',\n",
       " '4.65%',\n",
       " '595,605',\n",
       " '550,584',\n",
       " '827,019',\n",
       " '4.41%',\n",
       " '496,798',\n",
       " '461,903',\n",
       " '-',\n",
       " '4.24%',\n",
       " '-',\n",
       " '513,322',\n",
       " '779,647',\n",
       " '4.22%',\n",
       " '568,265',\n",
       " '529,739',\n",
       " '755,790',\n",
       " '3.99%',\n",
       " '514,983',\n",
       " '477,834',\n",
       " '562,710',\n",
       " '2.91%',\n",
       " '377,276',\n",
       " '340,512',\n",
       " '517,521',\n",
       " '2.83%',\n",
       " '374,015',\n",
       " '354,830',\n",
       " '457,757',\n",
       " '2.56%',\n",
       " '344,437',\n",
       " '327,805',\n",
       " '-',\n",
       " '1.69%',\n",
       " '-',\n",
       " '207,193',\n",
       " '301,242',\n",
       " '1.63%',\n",
       " '218,232',\n",
       " '204,423',\n",
       " '288,041',\n",
       " '1.60%',\n",
       " '210,837',\n",
       " '200,453',\n",
       " '-',\n",
       " '1.33%',\n",
       " '-',\n",
       " '173,211',\n",
       " '143,063',\n",
       " '0.80%',\n",
       " '107,171',\n",
       " '101,534',\n",
       " '-',\n",
       " '0.78%',\n",
       " '-',\n",
       " '91,666',\n",
       " '72,181',\n",
       " '0.40%',\n",
       " '56,810',\n",
       " '51,878',\n",
       " '50,227',\n",
       " '0.27%',\n",
       " '35,980',\n",
       " '32,830',\n",
       " '-',\n",
       " '0.22%',\n",
       " '-',\n",
       " '27,565',\n",
       " '34,823',\n",
       " '0.19%',\n",
       " '22,291',\n",
       " '20,534',\n",
       " '32,833',\n",
       " '0.18%',\n",
       " '23,564',\n",
       " '21,779',\n",
       " '29,148',\n",
       " '0.15%',\n",
       " '18,549',\n",
       " '17,228',\n",
       " '28,391',\n",
       " '0.15%',\n",
       " '17,060',\n",
       " '15,972',\n",
       " '-',\n",
       " '0.15%',\n",
       " '-',\n",
       " '15,381',\n",
       " '-',\n",
       " '0.13%',\n",
       " '-',\n",
       " '15,013',\n",
       " '24,424',\n",
       " '0.13%',\n",
       " '17,797',\n",
       " '15,372',\n",
       " '-',\n",
       " '-',\n",
       " '-',\n",
       " '-',\n",
       " '17,994,301',\n",
       " '16,704,645',\n",
       " '',\n",
       " '12,681,246',\n",
       " '12,240,380']"
      ]
     },
     "execution_count": 11,
     "metadata": {},
     "output_type": "execute_result"
    }
   ],
   "source": [
    "gsdp19"
   ]
  },
  {
   "cell_type": "code",
   "execution_count": 12,
   "id": "alone-pointer",
   "metadata": {},
   "outputs": [
    {
     "data": {
      "text/plain": [
       "'13.94%'"
      ]
     },
     "execution_count": 12,
     "metadata": {},
     "output_type": "execute_result"
    }
   ],
   "source": [
    "gsdp19.pop(1)"
   ]
  },
  {
   "cell_type": "code",
   "execution_count": 13,
   "id": "powered-affiliate",
   "metadata": {},
   "outputs": [
    {
     "data": {
      "text/plain": [
       "'399.921'"
      ]
     },
     "execution_count": 13,
     "metadata": {},
     "output_type": "execute_result"
    }
   ],
   "source": [
    "gsdp19.pop(1)"
   ]
  },
  {
   "cell_type": "code",
   "execution_count": 14,
   "id": "frank-mexico",
   "metadata": {},
   "outputs": [
    {
     "data": {
      "text/plain": [
       "'-'"
      ]
     },
     "execution_count": 14,
     "metadata": {},
     "output_type": "execute_result"
    }
   ],
   "source": [
    "gsdp19.pop(1)"
   ]
  },
  {
   "cell_type": "code",
   "execution_count": 15,
   "id": "known-burst",
   "metadata": {},
   "outputs": [
    {
     "data": {
      "text/plain": [
       "'2,039,074'"
      ]
     },
     "execution_count": 15,
     "metadata": {},
     "output_type": "execute_result"
    }
   ],
   "source": [
    "gsdp19.pop(1)"
   ]
  },
  {
   "cell_type": "code",
   "execution_count": 16,
   "id": "altered-frame",
   "metadata": {},
   "outputs": [
    {
     "data": {
      "text/plain": [
       "'8.63%'"
      ]
     },
     "execution_count": 16,
     "metadata": {},
     "output_type": "execute_result"
    }
   ],
   "source": [
    "gsdp19.pop(2)"
   ]
  },
  {
   "cell_type": "code",
   "execution_count": 17,
   "id": "opening-judgment",
   "metadata": {},
   "outputs": [
    {
     "data": {
      "text/plain": [
       "'247.629'"
      ]
     },
     "execution_count": 17,
     "metadata": {},
     "output_type": "execute_result"
    }
   ],
   "source": [
    "gsdp19.pop(2)"
   ]
  },
  {
   "cell_type": "code",
   "execution_count": 18,
   "id": "infrared-transcription",
   "metadata": {},
   "outputs": [
    {
     "data": {
      "text/plain": [
       "'1,312,929'"
      ]
     },
     "execution_count": 18,
     "metadata": {},
     "output_type": "execute_result"
    }
   ],
   "source": [
    "gsdp19.pop(2)"
   ]
  },
  {
   "cell_type": "code",
   "execution_count": 19,
   "id": "classified-preservation",
   "metadata": {},
   "outputs": [
    {
     "data": {
      "text/plain": [
       "'1,215,307'"
      ]
     },
     "execution_count": 19,
     "metadata": {},
     "output_type": "execute_result"
    }
   ],
   "source": [
    "gsdp19.pop(2)"
   ]
  },
  {
   "cell_type": "code",
   "execution_count": 20,
   "id": "identical-classics",
   "metadata": {},
   "outputs": [
    {
     "data": {
      "text/plain": [
       "'8.39%'"
      ]
     },
     "execution_count": 20,
     "metadata": {},
     "output_type": "execute_result"
    }
   ],
   "source": [
    "gsdp19.pop(3)"
   ]
  },
  {
   "cell_type": "code",
   "execution_count": 21,
   "id": "duplicate-spine",
   "metadata": {},
   "outputs": [
    {
     "data": {
      "text/plain": [
       "'240.726'"
      ]
     },
     "execution_count": 21,
     "metadata": {},
     "output_type": "execute_result"
    }
   ],
   "source": [
    "gsdp19.pop(3)"
   ]
  },
  {
   "cell_type": "code",
   "execution_count": 22,
   "id": "solved-medication",
   "metadata": {},
   "outputs": [
    {
     "data": {
      "text/plain": [
       "'1,166,817'"
      ]
     },
     "execution_count": 22,
     "metadata": {},
     "output_type": "execute_result"
    }
   ],
   "source": [
    "gsdp19.pop(3)"
   ]
  },
  {
   "cell_type": "code",
   "execution_count": 23,
   "id": "compound-vessel",
   "metadata": {},
   "outputs": [
    {
     "data": {
      "text/plain": [
       "'1,123,982'"
      ]
     },
     "execution_count": 23,
     "metadata": {},
     "output_type": "execute_result"
    }
   ],
   "source": [
    "gsdp19.pop(3)"
   ]
  },
  {
   "cell_type": "code",
   "execution_count": 24,
   "id": "fixed-treasury",
   "metadata": {},
   "outputs": [
    {
     "data": {
      "text/plain": [
       "'-'"
      ]
     },
     "execution_count": 24,
     "metadata": {},
     "output_type": "execute_result"
    }
   ],
   "source": [
    "gsdp19.pop(3)"
   ]
  },
  {
   "cell_type": "code",
   "execution_count": 25,
   "id": "facial-disney",
   "metadata": {},
   "outputs": [
    {
     "data": {
      "text/plain": [
       "'7.96%'"
      ]
     },
     "execution_count": 25,
     "metadata": {},
     "output_type": "execute_result"
    }
   ],
   "source": [
    "gsdp19.pop(3)"
   ]
  },
  {
   "cell_type": "code",
   "execution_count": 26,
   "id": "hollow-custom",
   "metadata": {},
   "outputs": [
    {
     "data": {
      "text/plain": [
       "'228.290'"
      ]
     },
     "execution_count": 26,
     "metadata": {},
     "output_type": "execute_result"
    }
   ],
   "source": [
    "gsdp19.pop(3)"
   ]
  },
  {
   "cell_type": "code",
   "execution_count": 27,
   "id": "divided-congo",
   "metadata": {},
   "outputs": [
    {
     "data": {
      "text/plain": [
       "'-'"
      ]
     },
     "execution_count": 27,
     "metadata": {},
     "output_type": "execute_result"
    }
   ],
   "source": [
    "gsdp19.pop(3)"
   ]
  },
  {
   "cell_type": "code",
   "execution_count": 28,
   "id": "expensive-tournament",
   "metadata": {},
   "outputs": [
    {
     "data": {
      "text/plain": [
       "'1,186,379'"
      ]
     },
     "execution_count": 28,
     "metadata": {},
     "output_type": "execute_result"
    }
   ],
   "source": [
    "gsdp19.pop(3)"
   ]
  },
  {
   "cell_type": "code",
   "execution_count": 29,
   "id": "brave-swimming",
   "metadata": {},
   "outputs": [
    {
     "data": {
      "text/plain": [
       "'7.91%'"
      ]
     },
     "execution_count": 29,
     "metadata": {},
     "output_type": "execute_result"
    }
   ],
   "source": [
    "gsdp19.pop(4)"
   ]
  },
  {
   "cell_type": "code",
   "execution_count": 30,
   "id": "accompanied-christianity",
   "metadata": {},
   "outputs": [
    {
     "data": {
      "text/plain": [
       "'226.806'"
      ]
     },
     "execution_count": 30,
     "metadata": {},
     "output_type": "execute_result"
    }
   ],
   "source": [
    "gsdp19.pop(4)"
   ]
  },
  {
   "cell_type": "code",
   "execution_count": 31,
   "id": "harmful-giant",
   "metadata": {},
   "outputs": [
    {
     "data": {
      "text/plain": [
       "'1,156,039'"
      ]
     },
     "execution_count": 31,
     "metadata": {},
     "output_type": "execute_result"
    }
   ],
   "source": [
    "gsdp19.pop(4)"
   ]
  },
  {
   "cell_type": "code",
   "execution_count": 32,
   "id": "herbal-monte",
   "metadata": {},
   "outputs": [
    {
     "data": {
      "text/plain": [
       "'1,091,077'"
      ]
     },
     "execution_count": 32,
     "metadata": {},
     "output_type": "execute_result"
    }
   ],
   "source": [
    "gsdp19.pop(4)"
   ]
  },
  {
   "cell_type": "code",
   "execution_count": 33,
   "id": "adjusted-hygiene",
   "metadata": {},
   "outputs": [
    {
     "data": {
      "text/plain": [
       "'5.77%'"
      ]
     },
     "execution_count": 33,
     "metadata": {},
     "output_type": "execute_result"
    }
   ],
   "source": [
    "gsdp19.pop(5)"
   ]
  },
  {
   "cell_type": "code",
   "execution_count": 34,
   "id": "distant-petroleum",
   "metadata": {},
   "outputs": [
    {
     "data": {
      "text/plain": [
       "'165.556'"
      ]
     },
     "execution_count": 34,
     "metadata": {},
     "output_type": "execute_result"
    }
   ],
   "source": [
    "gsdp19.pop(5)"
   ]
  },
  {
   "cell_type": "code",
   "execution_count": 35,
   "id": "derived-cable",
   "metadata": {},
   "outputs": [
    {
     "data": {
      "text/plain": [
       "'793,223'"
      ]
     },
     "execution_count": 35,
     "metadata": {},
     "output_type": "execute_result"
    }
   ],
   "source": [
    "gsdp19.pop(5)"
   ]
  },
  {
   "cell_type": "code",
   "execution_count": 36,
   "id": "level-mining",
   "metadata": {},
   "outputs": [
    {
     "data": {
      "text/plain": [
       "'739,525'"
      ]
     },
     "execution_count": 36,
     "metadata": {},
     "output_type": "execute_result"
    }
   ],
   "source": [
    "gsdp19.pop(5)"
   ]
  },
  {
   "cell_type": "code",
   "execution_count": 37,
   "id": "comparative-chinese",
   "metadata": {},
   "outputs": [
    {
     "data": {
      "text/plain": [
       "'4.99%'"
      ]
     },
     "execution_count": 37,
     "metadata": {},
     "output_type": "execute_result"
    }
   ],
   "source": [
    "gsdp19.pop(6)"
   ]
  },
  {
   "cell_type": "code",
   "execution_count": 38,
   "id": "cloudy-trout",
   "metadata": {},
   "outputs": [
    {
     "data": {
      "text/plain": [
       "'143.179'"
      ]
     },
     "execution_count": 38,
     "metadata": {},
     "output_type": "execute_result"
    }
   ],
   "source": [
    "gsdp19.pop(6)"
   ]
  },
  {
   "cell_type": "code",
   "execution_count": 39,
   "id": "another-former",
   "metadata": {},
   "outputs": [
    {
     "data": {
      "text/plain": [
       "'711,627'"
      ]
     },
     "execution_count": 39,
     "metadata": {},
     "output_type": "execute_result"
    }
   ],
   "source": [
    "gsdp19.pop(6)"
   ]
  },
  {
   "cell_type": "code",
   "execution_count": 40,
   "id": "hispanic-sector",
   "metadata": {},
   "outputs": [
    {
     "data": {
      "text/plain": [
       "'677,428'"
      ]
     },
     "execution_count": 40,
     "metadata": {},
     "output_type": "execute_result"
    }
   ],
   "source": [
    "gsdp19.pop(6)"
   ]
  },
  {
   "cell_type": "code",
   "execution_count": 41,
   "id": "prepared-release",
   "metadata": {},
   "outputs": [
    {
     "data": {
      "text/plain": [
       "'4.57%'"
      ]
     },
     "execution_count": 41,
     "metadata": {},
     "output_type": "execute_result"
    }
   ],
   "source": [
    "gsdp19.pop(7)"
   ]
  },
  {
   "cell_type": "code",
   "execution_count": 42,
   "id": "civic-combine",
   "metadata": {},
   "outputs": [
    {
     "data": {
      "text/plain": [
       "'131.083'"
      ]
     },
     "execution_count": 42,
     "metadata": {},
     "output_type": "execute_result"
    }
   ],
   "source": [
    "gsdp19.pop(7)"
   ]
  },
  {
   "cell_type": "code",
   "execution_count": 43,
   "id": "introductory-cream",
   "metadata": {},
   "outputs": [
    {
     "data": {
      "text/plain": [
       "'672,018'"
      ]
     },
     "execution_count": 43,
     "metadata": {},
     "output_type": "execute_result"
    }
   ],
   "source": [
    "gsdp19.pop(7)"
   ]
  },
  {
   "cell_type": "code",
   "execution_count": 44,
   "id": "negative-webmaster",
   "metadata": {},
   "outputs": [
    {
     "data": {
      "text/plain": [
       "'621,301'"
      ]
     },
     "execution_count": 44,
     "metadata": {},
     "output_type": "execute_result"
    }
   ],
   "source": [
    "gsdp19.pop(7)"
   ]
  },
  {
   "cell_type": "code",
   "execution_count": 45,
   "id": "accompanied-member",
   "metadata": {},
   "outputs": [
    {
     "data": {
      "text/plain": [
       "'4.56%'"
      ]
     },
     "execution_count": 45,
     "metadata": {},
     "output_type": "execute_result"
    }
   ],
   "source": [
    "gsdp19.pop(8)"
   ]
  },
  {
   "cell_type": "code",
   "execution_count": 46,
   "id": "economic-identity",
   "metadata": {},
   "outputs": [
    {
     "data": {
      "text/plain": [
       "'130.791'"
      ]
     },
     "execution_count": 46,
     "metadata": {},
     "output_type": "execute_result"
    }
   ],
   "source": [
    "gsdp19.pop(8)"
   ]
  },
  {
   "cell_type": "code",
   "execution_count": 47,
   "id": "narrative-travel",
   "metadata": {},
   "outputs": [
    {
     "data": {
      "text/plain": [
       "'663,258'"
      ]
     },
     "execution_count": 47,
     "metadata": {},
     "output_type": "execute_result"
    }
   ],
   "source": [
    "gsdp19.pop(8)"
   ]
  },
  {
   "cell_type": "code",
   "execution_count": 48,
   "id": "featured-retailer",
   "metadata": {},
   "outputs": [
    {
     "data": {
      "text/plain": [
       "'612,828'"
      ]
     },
     "execution_count": 48,
     "metadata": {},
     "output_type": "execute_result"
    }
   ],
   "source": [
    "gsdp19.pop(8)"
   ]
  },
  {
   "cell_type": "code",
   "execution_count": 49,
   "id": "organic-links",
   "metadata": {},
   "outputs": [
    {
     "data": {
      "text/plain": [
       "'4.29%'"
      ]
     },
     "execution_count": 49,
     "metadata": {},
     "output_type": "execute_result"
    }
   ],
   "source": [
    "gsdp19.pop(9)"
   ]
  },
  {
   "cell_type": "code",
   "execution_count": 50,
   "id": "bronze-hardware",
   "metadata": {},
   "outputs": [
    {
     "data": {
      "text/plain": [
       "'122.977'"
      ]
     },
     "execution_count": 50,
     "metadata": {},
     "output_type": "execute_result"
    }
   ],
   "source": [
    "gsdp19.pop(9)"
   ]
  },
  {
   "cell_type": "code",
   "execution_count": 51,
   "id": "pregnant-exemption",
   "metadata": {},
   "outputs": [
    {
     "data": {
      "text/plain": [
       "'561,801'"
      ]
     },
     "execution_count": 51,
     "metadata": {},
     "output_type": "execute_result"
    }
   ],
   "source": [
    "gsdp19.pop(9)"
   ]
  },
  {
   "cell_type": "code",
   "execution_count": 52,
   "id": "phantom-housing",
   "metadata": {},
   "outputs": [
    {
     "data": {
      "text/plain": [
       "'522,009'"
      ]
     },
     "execution_count": 52,
     "metadata": {},
     "output_type": "execute_result"
    }
   ],
   "source": [
    "gsdp19.pop(9)"
   ]
  },
  {
   "cell_type": "code",
   "execution_count": 53,
   "id": "large-sleeve",
   "metadata": {},
   "outputs": [
    {
     "data": {
      "text/plain": [
       "'4.14%'"
      ]
     },
     "execution_count": 53,
     "metadata": {},
     "output_type": "execute_result"
    }
   ],
   "source": [
    "gsdp19.pop(10)"
   ]
  },
  {
   "cell_type": "code",
   "execution_count": 54,
   "id": "minimal-slope",
   "metadata": {},
   "outputs": [
    {
     "data": {
      "text/plain": [
       "'118.733'"
      ]
     },
     "execution_count": 54,
     "metadata": {},
     "output_type": "execute_result"
    }
   ],
   "source": [
    "gsdp19.pop(10)"
   ]
  },
  {
   "cell_type": "code",
   "execution_count": 55,
   "id": "dominant-possibility",
   "metadata": {},
   "outputs": [
    {
     "data": {
      "text/plain": [
       "'-'"
      ]
     },
     "execution_count": 55,
     "metadata": {},
     "output_type": "execute_result"
    }
   ],
   "source": [
    "gsdp19.pop(10)"
   ]
  },
  {
   "cell_type": "code",
   "execution_count": 56,
   "id": "mexican-posting",
   "metadata": {},
   "outputs": [
    {
     "data": {
      "text/plain": [
       "'559,412'"
      ]
     },
     "execution_count": 56,
     "metadata": {},
     "output_type": "execute_result"
    }
   ],
   "source": [
    "gsdp19.pop(10)"
   ]
  },
  {
   "cell_type": "code",
   "execution_count": 57,
   "id": "biblical-flash",
   "metadata": {},
   "outputs": [
    {
     "data": {
      "text/plain": [
       "['-',\n",
       " '1,845,853',\n",
       " '1,687,818',\n",
       " '1,631,977',\n",
       " '1,253,832',\n",
       " '1,020,989',\n",
       " '972,782',\n",
       " '969,604',\n",
       " '906,672',\n",
       " '-']"
      ]
     },
     "execution_count": 57,
     "metadata": {},
     "output_type": "execute_result"
    }
   ],
   "source": [
    "gsdp19[0:10]"
   ]
  },
  {
   "cell_type": "code",
   "execution_count": 58,
   "id": "residential-organizer",
   "metadata": {},
   "outputs": [],
   "source": [
    "share=[]"
   ]
  },
  {
   "cell_type": "code",
   "execution_count": 59,
   "id": "adjusted-graphics",
   "metadata": {},
   "outputs": [],
   "source": [
    "share_tags=browser.find_elements_by_xpath(\"//td[@class='data']\")\n",
    "for i in share_tags:\n",
    "    if i.text is None :\n",
    "        share.append(\"no rating\") \n",
    "    else:\n",
    "        share.append(i.text)"
   ]
  },
  {
   "cell_type": "code",
   "execution_count": 60,
   "id": "fleet-physics",
   "metadata": {},
   "outputs": [
    {
     "data": {
      "text/plain": [
       "'-'"
      ]
     },
     "execution_count": 60,
     "metadata": {},
     "output_type": "execute_result"
    }
   ],
   "source": [
    "share.pop(0)"
   ]
  },
  {
   "cell_type": "code",
   "execution_count": 61,
   "id": "flush-dress",
   "metadata": {},
   "outputs": [
    {
     "data": {
      "text/plain": [
       "'399.921'"
      ]
     },
     "execution_count": 61,
     "metadata": {},
     "output_type": "execute_result"
    }
   ],
   "source": [
    "share.pop(1)"
   ]
  },
  {
   "cell_type": "code",
   "execution_count": 62,
   "id": "endangered-lover",
   "metadata": {},
   "outputs": [
    {
     "data": {
      "text/plain": [
       "'-'"
      ]
     },
     "execution_count": 62,
     "metadata": {},
     "output_type": "execute_result"
    }
   ],
   "source": [
    "share.pop(1)"
   ]
  },
  {
   "cell_type": "code",
   "execution_count": 63,
   "id": "korean-declaration",
   "metadata": {},
   "outputs": [
    {
     "data": {
      "text/plain": [
       "'2,039,074'"
      ]
     },
     "execution_count": 63,
     "metadata": {},
     "output_type": "execute_result"
    }
   ],
   "source": [
    "share.pop(1)"
   ]
  },
  {
   "cell_type": "code",
   "execution_count": 64,
   "id": "varying-fight",
   "metadata": {},
   "outputs": [
    {
     "data": {
      "text/plain": [
       "'1,845,853'"
      ]
     },
     "execution_count": 64,
     "metadata": {},
     "output_type": "execute_result"
    }
   ],
   "source": [
    "share.pop(1)"
   ]
  },
  {
   "cell_type": "code",
   "execution_count": 65,
   "id": "functioning-pledge",
   "metadata": {},
   "outputs": [
    {
     "data": {
      "text/plain": [
       "'247.629'"
      ]
     },
     "execution_count": 65,
     "metadata": {},
     "output_type": "execute_result"
    }
   ],
   "source": [
    "share.pop(2)"
   ]
  },
  {
   "cell_type": "code",
   "execution_count": 66,
   "id": "lesbian-perry",
   "metadata": {},
   "outputs": [
    {
     "data": {
      "text/plain": [
       "'1,312,929'"
      ]
     },
     "execution_count": 66,
     "metadata": {},
     "output_type": "execute_result"
    }
   ],
   "source": [
    "share.pop(2)"
   ]
  },
  {
   "cell_type": "code",
   "execution_count": 67,
   "id": "damaged-employer",
   "metadata": {},
   "outputs": [
    {
     "data": {
      "text/plain": [
       "'1,215,307'"
      ]
     },
     "execution_count": 67,
     "metadata": {},
     "output_type": "execute_result"
    }
   ],
   "source": [
    "share.pop(2)"
   ]
  },
  {
   "cell_type": "code",
   "execution_count": 68,
   "id": "transparent-exhaust",
   "metadata": {},
   "outputs": [
    {
     "data": {
      "text/plain": [
       "'1,687,818'"
      ]
     },
     "execution_count": 68,
     "metadata": {},
     "output_type": "execute_result"
    }
   ],
   "source": [
    "share.pop(2)"
   ]
  },
  {
   "cell_type": "code",
   "execution_count": 69,
   "id": "exclusive-mechanism",
   "metadata": {},
   "outputs": [
    {
     "data": {
      "text/plain": [
       "'240.726'"
      ]
     },
     "execution_count": 69,
     "metadata": {},
     "output_type": "execute_result"
    }
   ],
   "source": [
    "share.pop(3)"
   ]
  },
  {
   "cell_type": "code",
   "execution_count": 70,
   "id": "continent-julian",
   "metadata": {},
   "outputs": [
    {
     "data": {
      "text/plain": [
       "'1,166,817'"
      ]
     },
     "execution_count": 70,
     "metadata": {},
     "output_type": "execute_result"
    }
   ],
   "source": [
    "share.pop(3)"
   ]
  },
  {
   "cell_type": "code",
   "execution_count": 71,
   "id": "aboriginal-antigua",
   "metadata": {},
   "outputs": [
    {
     "data": {
      "text/plain": [
       "'1,123,982'"
      ]
     },
     "execution_count": 71,
     "metadata": {},
     "output_type": "execute_result"
    }
   ],
   "source": [
    "share.pop(3)"
   ]
  },
  {
   "cell_type": "code",
   "execution_count": 72,
   "id": "whole-shark",
   "metadata": {},
   "outputs": [
    {
     "data": {
      "text/plain": [
       "'-'"
      ]
     },
     "execution_count": 72,
     "metadata": {},
     "output_type": "execute_result"
    }
   ],
   "source": [
    "share.pop(3)"
   ]
  },
  {
   "cell_type": "code",
   "execution_count": 73,
   "id": "bulgarian-render",
   "metadata": {},
   "outputs": [
    {
     "data": {
      "text/plain": [
       "'228.290'"
      ]
     },
     "execution_count": 73,
     "metadata": {},
     "output_type": "execute_result"
    }
   ],
   "source": [
    "share.pop(4)"
   ]
  },
  {
   "cell_type": "code",
   "execution_count": 74,
   "id": "cheap-hunter",
   "metadata": {},
   "outputs": [
    {
     "data": {
      "text/plain": [
       "'-'"
      ]
     },
     "execution_count": 74,
     "metadata": {},
     "output_type": "execute_result"
    }
   ],
   "source": [
    "share.pop(4)"
   ]
  },
  {
   "cell_type": "code",
   "execution_count": 75,
   "id": "divided-expert",
   "metadata": {},
   "outputs": [
    {
     "data": {
      "text/plain": [
       "'1,186,379'"
      ]
     },
     "execution_count": 75,
     "metadata": {},
     "output_type": "execute_result"
    }
   ],
   "source": [
    "share.pop(4)"
   ]
  },
  {
   "cell_type": "code",
   "execution_count": 76,
   "id": "parliamentary-surrey",
   "metadata": {},
   "outputs": [
    {
     "data": {
      "text/plain": [
       "'1,631,977'"
      ]
     },
     "execution_count": 76,
     "metadata": {},
     "output_type": "execute_result"
    }
   ],
   "source": [
    "share.pop(4)"
   ]
  },
  {
   "cell_type": "code",
   "execution_count": 77,
   "id": "pretty-action",
   "metadata": {},
   "outputs": [
    {
     "data": {
      "text/plain": [
       "'226.806'"
      ]
     },
     "execution_count": 77,
     "metadata": {},
     "output_type": "execute_result"
    }
   ],
   "source": [
    "share.pop(5)"
   ]
  },
  {
   "cell_type": "code",
   "execution_count": 78,
   "id": "lesser-carolina",
   "metadata": {},
   "outputs": [
    {
     "data": {
      "text/plain": [
       "'1,156,039'"
      ]
     },
     "execution_count": 78,
     "metadata": {},
     "output_type": "execute_result"
    }
   ],
   "source": [
    "share.pop(5)"
   ]
  },
  {
   "cell_type": "code",
   "execution_count": 79,
   "id": "human-pittsburgh",
   "metadata": {},
   "outputs": [
    {
     "data": {
      "text/plain": [
       "'1,091,077'"
      ]
     },
     "execution_count": 79,
     "metadata": {},
     "output_type": "execute_result"
    }
   ],
   "source": [
    "share.pop(5)"
   ]
  },
  {
   "cell_type": "code",
   "execution_count": 80,
   "id": "missing-pharmacology",
   "metadata": {},
   "outputs": [
    {
     "data": {
      "text/plain": [
       "'1,253,832'"
      ]
     },
     "execution_count": 80,
     "metadata": {},
     "output_type": "execute_result"
    }
   ],
   "source": [
    "share.pop(5)"
   ]
  },
  {
   "cell_type": "code",
   "execution_count": 81,
   "id": "fitted-frost",
   "metadata": {},
   "outputs": [
    {
     "data": {
      "text/plain": [
       "'165.556'"
      ]
     },
     "execution_count": 81,
     "metadata": {},
     "output_type": "execute_result"
    }
   ],
   "source": [
    "share.pop(6)"
   ]
  },
  {
   "cell_type": "code",
   "execution_count": 82,
   "id": "strange-thompson",
   "metadata": {},
   "outputs": [
    {
     "data": {
      "text/plain": [
       "'793,223'"
      ]
     },
     "execution_count": 82,
     "metadata": {},
     "output_type": "execute_result"
    }
   ],
   "source": [
    "share.pop(6)"
   ]
  },
  {
   "cell_type": "code",
   "execution_count": 83,
   "id": "checked-software",
   "metadata": {},
   "outputs": [
    {
     "data": {
      "text/plain": [
       "'739,525'"
      ]
     },
     "execution_count": 83,
     "metadata": {},
     "output_type": "execute_result"
    }
   ],
   "source": [
    "share.pop(6)"
   ]
  },
  {
   "cell_type": "code",
   "execution_count": 84,
   "id": "virgin-visitor",
   "metadata": {},
   "outputs": [
    {
     "data": {
      "text/plain": [
       "'1,020,989'"
      ]
     },
     "execution_count": 84,
     "metadata": {},
     "output_type": "execute_result"
    }
   ],
   "source": [
    "share.pop(6)"
   ]
  },
  {
   "cell_type": "code",
   "execution_count": 85,
   "id": "viral-cathedral",
   "metadata": {},
   "outputs": [
    {
     "data": {
      "text/plain": [
       "'143.179'"
      ]
     },
     "execution_count": 85,
     "metadata": {},
     "output_type": "execute_result"
    }
   ],
   "source": [
    "share.pop(7)"
   ]
  },
  {
   "cell_type": "code",
   "execution_count": 86,
   "id": "talented-french",
   "metadata": {},
   "outputs": [
    {
     "data": {
      "text/plain": [
       "'711,627'"
      ]
     },
     "execution_count": 86,
     "metadata": {},
     "output_type": "execute_result"
    }
   ],
   "source": [
    "share.pop(7)"
   ]
  },
  {
   "cell_type": "code",
   "execution_count": 87,
   "id": "understood-lyric",
   "metadata": {},
   "outputs": [
    {
     "data": {
      "text/plain": [
       "'677,428'"
      ]
     },
     "execution_count": 87,
     "metadata": {},
     "output_type": "execute_result"
    }
   ],
   "source": [
    "share.pop(7)"
   ]
  },
  {
   "cell_type": "code",
   "execution_count": 88,
   "id": "constant-craps",
   "metadata": {},
   "outputs": [
    {
     "data": {
      "text/plain": [
       "'972,782'"
      ]
     },
     "execution_count": 88,
     "metadata": {},
     "output_type": "execute_result"
    }
   ],
   "source": [
    "share.pop(7)"
   ]
  },
  {
   "cell_type": "code",
   "execution_count": 89,
   "id": "endless-spending",
   "metadata": {},
   "outputs": [
    {
     "data": {
      "text/plain": [
       "'131.083'"
      ]
     },
     "execution_count": 89,
     "metadata": {},
     "output_type": "execute_result"
    }
   ],
   "source": [
    "share.pop(8)"
   ]
  },
  {
   "cell_type": "code",
   "execution_count": 90,
   "id": "drawn-quilt",
   "metadata": {},
   "outputs": [
    {
     "data": {
      "text/plain": [
       "'672,018'"
      ]
     },
     "execution_count": 90,
     "metadata": {},
     "output_type": "execute_result"
    }
   ],
   "source": [
    "share.pop(8)"
   ]
  },
  {
   "cell_type": "code",
   "execution_count": 91,
   "id": "hawaiian-hollow",
   "metadata": {},
   "outputs": [
    {
     "data": {
      "text/plain": [
       "'621,301'"
      ]
     },
     "execution_count": 91,
     "metadata": {},
     "output_type": "execute_result"
    }
   ],
   "source": [
    "share.pop(8)"
   ]
  },
  {
   "cell_type": "code",
   "execution_count": 92,
   "id": "worth-monkey",
   "metadata": {},
   "outputs": [
    {
     "data": {
      "text/plain": [
       "'969,604'"
      ]
     },
     "execution_count": 92,
     "metadata": {},
     "output_type": "execute_result"
    }
   ],
   "source": [
    "share.pop(8)"
   ]
  },
  {
   "cell_type": "code",
   "execution_count": 93,
   "id": "floral-timber",
   "metadata": {},
   "outputs": [
    {
     "data": {
      "text/plain": [
       "'130.791'"
      ]
     },
     "execution_count": 93,
     "metadata": {},
     "output_type": "execute_result"
    }
   ],
   "source": [
    "share.pop(9)"
   ]
  },
  {
   "cell_type": "code",
   "execution_count": 94,
   "id": "pacific-salmon",
   "metadata": {},
   "outputs": [
    {
     "data": {
      "text/plain": [
       "'663,258'"
      ]
     },
     "execution_count": 94,
     "metadata": {},
     "output_type": "execute_result"
    }
   ],
   "source": [
    "share.pop(9)"
   ]
  },
  {
   "cell_type": "code",
   "execution_count": 95,
   "id": "operating-heating",
   "metadata": {},
   "outputs": [
    {
     "data": {
      "text/plain": [
       "'612,828'"
      ]
     },
     "execution_count": 95,
     "metadata": {},
     "output_type": "execute_result"
    }
   ],
   "source": [
    "share.pop(9)"
   ]
  },
  {
   "cell_type": "code",
   "execution_count": 96,
   "id": "involved-broadcasting",
   "metadata": {},
   "outputs": [
    {
     "data": {
      "text/plain": [
       "'906,672'"
      ]
     },
     "execution_count": 96,
     "metadata": {},
     "output_type": "execute_result"
    }
   ],
   "source": [
    "share.pop(9)"
   ]
  },
  {
   "cell_type": "code",
   "execution_count": 97,
   "id": "norwegian-isaac",
   "metadata": {},
   "outputs": [
    {
     "data": {
      "text/plain": [
       "'122.977'"
      ]
     },
     "execution_count": 97,
     "metadata": {},
     "output_type": "execute_result"
    }
   ],
   "source": [
    "share.pop(10)"
   ]
  },
  {
   "cell_type": "code",
   "execution_count": 98,
   "id": "loving-sellers",
   "metadata": {},
   "outputs": [
    {
     "data": {
      "text/plain": [
       "'561,801'"
      ]
     },
     "execution_count": 98,
     "metadata": {},
     "output_type": "execute_result"
    }
   ],
   "source": [
    "share.pop(10)"
   ]
  },
  {
   "cell_type": "code",
   "execution_count": 99,
   "id": "chronic-mortality",
   "metadata": {},
   "outputs": [
    {
     "data": {
      "text/plain": [
       "'522,009'"
      ]
     },
     "execution_count": 99,
     "metadata": {},
     "output_type": "execute_result"
    }
   ],
   "source": [
    "share.pop(10)"
   ]
  },
  {
   "cell_type": "code",
   "execution_count": 100,
   "id": "married-immigration",
   "metadata": {},
   "outputs": [
    {
     "data": {
      "text/plain": [
       "'-'"
      ]
     },
     "execution_count": 100,
     "metadata": {},
     "output_type": "execute_result"
    }
   ],
   "source": [
    "share.pop(10)"
   ]
  },
  {
   "cell_type": "code",
   "execution_count": 101,
   "id": "otherwise-variety",
   "metadata": {},
   "outputs": [
    {
     "data": {
      "text/plain": [
       "['13.94%',\n",
       " '8.63%',\n",
       " '8.39%',\n",
       " '7.96%',\n",
       " '7.91%',\n",
       " '5.77%',\n",
       " '4.99%',\n",
       " '4.57%',\n",
       " '4.56%',\n",
       " '4.29%']"
      ]
     },
     "execution_count": 101,
     "metadata": {},
     "output_type": "execute_result"
    }
   ],
   "source": [
    "share[0:10]"
   ]
  },
  {
   "cell_type": "code",
   "execution_count": 102,
   "id": "social-rider",
   "metadata": {},
   "outputs": [],
   "source": [
    "gsdp18=[]"
   ]
  },
  {
   "cell_type": "code",
   "execution_count": 103,
   "id": "successful-canon",
   "metadata": {},
   "outputs": [],
   "source": [
    "gsdp18_tags=browser.find_elements_by_xpath(\"//td[@class='data sorting_1']\")\n",
    "for i in gsdp18_tags:\n",
    "    if i.text is None :\n",
    "        gsdp18.append(\"no rating\") \n",
    "    else:\n",
    "        gsdp18.append(i.text)"
   ]
  },
  {
   "cell_type": "code",
   "execution_count": 104,
   "id": "preceding-syndrome",
   "metadata": {},
   "outputs": [
    {
     "data": {
      "text/plain": [
       "['2,632,792',\n",
       " '1,630,208',\n",
       " '1,584,764',\n",
       " '1,502,899',\n",
       " '1,493,127',\n",
       " '1,089,898',\n",
       " '942,586',\n",
       " '862,957',\n",
       " '861,031',\n",
       " '809,592']"
      ]
     },
     "execution_count": 104,
     "metadata": {},
     "output_type": "execute_result"
    }
   ],
   "source": [
    "gsdp18[0:10]"
   ]
  },
  {
   "cell_type": "code",
   "execution_count": 105,
   "id": "external-blackberry",
   "metadata": {},
   "outputs": [],
   "source": [
    "gsdpbi=[]"
   ]
  },
  {
   "cell_type": "code",
   "execution_count": 106,
   "id": "moving-hybrid",
   "metadata": {},
   "outputs": [],
   "source": [
    "name_tags=browser.find_elements_by_xpath(\"//td[@class='data']\")\n",
    "for i in name_tags:\n",
    "    if i.text is None :\n",
    "        gsdpbi.append(\"no rating\") \n",
    "    else:\n",
    "        gsdpbi.append(i.text)"
   ]
  },
  {
   "cell_type": "code",
   "execution_count": 107,
   "id": "robust-seafood",
   "metadata": {},
   "outputs": [
    {
     "data": {
      "text/plain": [
       "'-'"
      ]
     },
     "execution_count": 107,
     "metadata": {},
     "output_type": "execute_result"
    }
   ],
   "source": [
    "gsdpbi.pop(0)"
   ]
  },
  {
   "cell_type": "code",
   "execution_count": 108,
   "id": "promotional-adelaide",
   "metadata": {},
   "outputs": [
    {
     "data": {
      "text/plain": [
       "'13.94%'"
      ]
     },
     "execution_count": 108,
     "metadata": {},
     "output_type": "execute_result"
    }
   ],
   "source": [
    "gsdpbi.pop(0)"
   ]
  },
  {
   "cell_type": "code",
   "execution_count": 109,
   "id": "aggressive-florida",
   "metadata": {},
   "outputs": [
    {
     "data": {
      "text/plain": [
       "'-'"
      ]
     },
     "execution_count": 109,
     "metadata": {},
     "output_type": "execute_result"
    }
   ],
   "source": [
    "gsdpbi.pop(1)"
   ]
  },
  {
   "cell_type": "code",
   "execution_count": 110,
   "id": "enormous-tutorial",
   "metadata": {},
   "outputs": [
    {
     "data": {
      "text/plain": [
       "'2,039,074'"
      ]
     },
     "execution_count": 110,
     "metadata": {},
     "output_type": "execute_result"
    }
   ],
   "source": [
    "gsdpbi.pop(1)"
   ]
  },
  {
   "cell_type": "code",
   "execution_count": 111,
   "id": "conservative-pottery",
   "metadata": {},
   "outputs": [
    {
     "data": {
      "text/plain": [
       "'1,845,853'"
      ]
     },
     "execution_count": 111,
     "metadata": {},
     "output_type": "execute_result"
    }
   ],
   "source": [
    "gsdpbi.pop(1)"
   ]
  },
  {
   "cell_type": "code",
   "execution_count": 112,
   "id": "future-strap",
   "metadata": {},
   "outputs": [
    {
     "data": {
      "text/plain": [
       "'8.63%'"
      ]
     },
     "execution_count": 112,
     "metadata": {},
     "output_type": "execute_result"
    }
   ],
   "source": [
    "gsdpbi.pop(1)"
   ]
  },
  {
   "cell_type": "code",
   "execution_count": 113,
   "id": "personal-fraud",
   "metadata": {},
   "outputs": [
    {
     "data": {
      "text/plain": [
       "'1,312,929'"
      ]
     },
     "execution_count": 113,
     "metadata": {},
     "output_type": "execute_result"
    }
   ],
   "source": [
    "gsdpbi.pop(2)"
   ]
  },
  {
   "cell_type": "code",
   "execution_count": 114,
   "id": "maritime-farming",
   "metadata": {},
   "outputs": [
    {
     "data": {
      "text/plain": [
       "'1,215,307'"
      ]
     },
     "execution_count": 114,
     "metadata": {},
     "output_type": "execute_result"
    }
   ],
   "source": [
    "gsdpbi.pop(2)"
   ]
  },
  {
   "cell_type": "code",
   "execution_count": 115,
   "id": "restricted-receipt",
   "metadata": {},
   "outputs": [
    {
     "data": {
      "text/plain": [
       "'1,687,818'"
      ]
     },
     "execution_count": 115,
     "metadata": {},
     "output_type": "execute_result"
    }
   ],
   "source": [
    "gsdpbi.pop(2)"
   ]
  },
  {
   "cell_type": "code",
   "execution_count": 116,
   "id": "nasty-update",
   "metadata": {},
   "outputs": [
    {
     "data": {
      "text/plain": [
       "'8.39%'"
      ]
     },
     "execution_count": 116,
     "metadata": {},
     "output_type": "execute_result"
    }
   ],
   "source": [
    "gsdpbi.pop(2)"
   ]
  },
  {
   "cell_type": "code",
   "execution_count": 117,
   "id": "returning-lecture",
   "metadata": {},
   "outputs": [
    {
     "data": {
      "text/plain": [
       "'1,166,817'"
      ]
     },
     "execution_count": 117,
     "metadata": {},
     "output_type": "execute_result"
    }
   ],
   "source": [
    "gsdpbi.pop(3)"
   ]
  },
  {
   "cell_type": "code",
   "execution_count": 118,
   "id": "toxic-orientation",
   "metadata": {},
   "outputs": [
    {
     "data": {
      "text/plain": [
       "'1,123,982'"
      ]
     },
     "execution_count": 118,
     "metadata": {},
     "output_type": "execute_result"
    }
   ],
   "source": [
    "gsdpbi.pop(3)"
   ]
  },
  {
   "cell_type": "code",
   "execution_count": 119,
   "id": "indian-danger",
   "metadata": {},
   "outputs": [
    {
     "data": {
      "text/plain": [
       "'-'"
      ]
     },
     "execution_count": 119,
     "metadata": {},
     "output_type": "execute_result"
    }
   ],
   "source": [
    "gsdpbi.pop(3)"
   ]
  },
  {
   "cell_type": "code",
   "execution_count": 120,
   "id": "endangered-boulder",
   "metadata": {},
   "outputs": [
    {
     "data": {
      "text/plain": [
       "'7.96%'"
      ]
     },
     "execution_count": 120,
     "metadata": {},
     "output_type": "execute_result"
    }
   ],
   "source": [
    "gsdpbi.pop(3)"
   ]
  },
  {
   "cell_type": "code",
   "execution_count": 121,
   "id": "fitting-genius",
   "metadata": {},
   "outputs": [
    {
     "data": {
      "text/plain": [
       "'-'"
      ]
     },
     "execution_count": 121,
     "metadata": {},
     "output_type": "execute_result"
    }
   ],
   "source": [
    "gsdpbi.pop(4)"
   ]
  },
  {
   "cell_type": "code",
   "execution_count": 122,
   "id": "grateful-writing",
   "metadata": {},
   "outputs": [
    {
     "data": {
      "text/plain": [
       "'1,186,379'"
      ]
     },
     "execution_count": 122,
     "metadata": {},
     "output_type": "execute_result"
    }
   ],
   "source": [
    "gsdpbi.pop(4)"
   ]
  },
  {
   "cell_type": "code",
   "execution_count": 123,
   "id": "valid-virus",
   "metadata": {},
   "outputs": [
    {
     "data": {
      "text/plain": [
       "'1,631,977'"
      ]
     },
     "execution_count": 123,
     "metadata": {},
     "output_type": "execute_result"
    }
   ],
   "source": [
    "gsdpbi.pop(4)"
   ]
  },
  {
   "cell_type": "code",
   "execution_count": 124,
   "id": "sound-jamaica",
   "metadata": {},
   "outputs": [
    {
     "data": {
      "text/plain": [
       "'7.91%'"
      ]
     },
     "execution_count": 124,
     "metadata": {},
     "output_type": "execute_result"
    }
   ],
   "source": [
    "gsdpbi.pop(4)"
   ]
  },
  {
   "cell_type": "code",
   "execution_count": 125,
   "id": "emotional-elite",
   "metadata": {},
   "outputs": [
    {
     "data": {
      "text/plain": [
       "'1,156,039'"
      ]
     },
     "execution_count": 125,
     "metadata": {},
     "output_type": "execute_result"
    }
   ],
   "source": [
    "gsdpbi.pop(5)"
   ]
  },
  {
   "cell_type": "code",
   "execution_count": 126,
   "id": "powered-vietnamese",
   "metadata": {},
   "outputs": [
    {
     "data": {
      "text/plain": [
       "'1,091,077'"
      ]
     },
     "execution_count": 126,
     "metadata": {},
     "output_type": "execute_result"
    }
   ],
   "source": [
    "gsdpbi.pop(5)"
   ]
  },
  {
   "cell_type": "code",
   "execution_count": 127,
   "id": "painful-bones",
   "metadata": {},
   "outputs": [
    {
     "data": {
      "text/plain": [
       "'1,253,832'"
      ]
     },
     "execution_count": 127,
     "metadata": {},
     "output_type": "execute_result"
    }
   ],
   "source": [
    "gsdpbi.pop(5)"
   ]
  },
  {
   "cell_type": "code",
   "execution_count": 128,
   "id": "renewable-blind",
   "metadata": {},
   "outputs": [
    {
     "data": {
      "text/plain": [
       "'5.77%'"
      ]
     },
     "execution_count": 128,
     "metadata": {},
     "output_type": "execute_result"
    }
   ],
   "source": [
    "gsdpbi.pop(5)"
   ]
  },
  {
   "cell_type": "code",
   "execution_count": 129,
   "id": "certain-aaron",
   "metadata": {},
   "outputs": [
    {
     "data": {
      "text/plain": [
       "'793,223'"
      ]
     },
     "execution_count": 129,
     "metadata": {},
     "output_type": "execute_result"
    }
   ],
   "source": [
    "gsdpbi.pop(6)"
   ]
  },
  {
   "cell_type": "code",
   "execution_count": 130,
   "id": "combined-commerce",
   "metadata": {},
   "outputs": [
    {
     "data": {
      "text/plain": [
       "'739,525'"
      ]
     },
     "execution_count": 130,
     "metadata": {},
     "output_type": "execute_result"
    }
   ],
   "source": [
    "gsdpbi.pop(6)"
   ]
  },
  {
   "cell_type": "code",
   "execution_count": 131,
   "id": "acoustic-survey",
   "metadata": {},
   "outputs": [
    {
     "data": {
      "text/plain": [
       "'1,020,989'"
      ]
     },
     "execution_count": 131,
     "metadata": {},
     "output_type": "execute_result"
    }
   ],
   "source": [
    "gsdpbi.pop(6)"
   ]
  },
  {
   "cell_type": "code",
   "execution_count": 132,
   "id": "worth-savings",
   "metadata": {},
   "outputs": [
    {
     "data": {
      "text/plain": [
       "'4.99%'"
      ]
     },
     "execution_count": 132,
     "metadata": {},
     "output_type": "execute_result"
    }
   ],
   "source": [
    "gsdpbi.pop(6)"
   ]
  },
  {
   "cell_type": "code",
   "execution_count": 133,
   "id": "apparent-continuity",
   "metadata": {},
   "outputs": [
    {
     "data": {
      "text/plain": [
       "'711,627'"
      ]
     },
     "execution_count": 133,
     "metadata": {},
     "output_type": "execute_result"
    }
   ],
   "source": [
    "gsdpbi.pop(7)"
   ]
  },
  {
   "cell_type": "code",
   "execution_count": 134,
   "id": "burning-budapest",
   "metadata": {},
   "outputs": [
    {
     "data": {
      "text/plain": [
       "'677,428'"
      ]
     },
     "execution_count": 134,
     "metadata": {},
     "output_type": "execute_result"
    }
   ],
   "source": [
    "gsdpbi.pop(7)"
   ]
  },
  {
   "cell_type": "code",
   "execution_count": 135,
   "id": "automatic-missile",
   "metadata": {},
   "outputs": [
    {
     "data": {
      "text/plain": [
       "'972,782'"
      ]
     },
     "execution_count": 135,
     "metadata": {},
     "output_type": "execute_result"
    }
   ],
   "source": [
    "gsdpbi.pop(7)"
   ]
  },
  {
   "cell_type": "code",
   "execution_count": 136,
   "id": "domestic-catholic",
   "metadata": {},
   "outputs": [
    {
     "data": {
      "text/plain": [
       "'4.57%'"
      ]
     },
     "execution_count": 136,
     "metadata": {},
     "output_type": "execute_result"
    }
   ],
   "source": [
    "gsdpbi.pop(7)"
   ]
  },
  {
   "cell_type": "code",
   "execution_count": 137,
   "id": "southeast-tracy",
   "metadata": {},
   "outputs": [
    {
     "data": {
      "text/plain": [
       "'672,018'"
      ]
     },
     "execution_count": 137,
     "metadata": {},
     "output_type": "execute_result"
    }
   ],
   "source": [
    "gsdpbi.pop(8)"
   ]
  },
  {
   "cell_type": "code",
   "execution_count": 138,
   "id": "sensitive-guard",
   "metadata": {},
   "outputs": [
    {
     "data": {
      "text/plain": [
       "'621,301'"
      ]
     },
     "execution_count": 138,
     "metadata": {},
     "output_type": "execute_result"
    }
   ],
   "source": [
    "gsdpbi.pop(8)"
   ]
  },
  {
   "cell_type": "code",
   "execution_count": 139,
   "id": "refined-africa",
   "metadata": {},
   "outputs": [
    {
     "data": {
      "text/plain": [
       "'969,604'"
      ]
     },
     "execution_count": 139,
     "metadata": {},
     "output_type": "execute_result"
    }
   ],
   "source": [
    "gsdpbi.pop(8)"
   ]
  },
  {
   "cell_type": "code",
   "execution_count": 140,
   "id": "negative-window",
   "metadata": {},
   "outputs": [
    {
     "data": {
      "text/plain": [
       "'4.56%'"
      ]
     },
     "execution_count": 140,
     "metadata": {},
     "output_type": "execute_result"
    }
   ],
   "source": [
    "gsdpbi.pop(8)"
   ]
  },
  {
   "cell_type": "code",
   "execution_count": 141,
   "id": "plain-scanner",
   "metadata": {},
   "outputs": [
    {
     "data": {
      "text/plain": [
       "'663,258'"
      ]
     },
     "execution_count": 141,
     "metadata": {},
     "output_type": "execute_result"
    }
   ],
   "source": [
    "gsdpbi.pop(9)"
   ]
  },
  {
   "cell_type": "code",
   "execution_count": 142,
   "id": "joined-former",
   "metadata": {},
   "outputs": [
    {
     "data": {
      "text/plain": [
       "'612,828'"
      ]
     },
     "execution_count": 142,
     "metadata": {},
     "output_type": "execute_result"
    }
   ],
   "source": [
    "gsdpbi.pop(9)"
   ]
  },
  {
   "cell_type": "code",
   "execution_count": 143,
   "id": "sixth-glass",
   "metadata": {},
   "outputs": [
    {
     "data": {
      "text/plain": [
       "'906,672'"
      ]
     },
     "execution_count": 143,
     "metadata": {},
     "output_type": "execute_result"
    }
   ],
   "source": [
    "gsdpbi.pop(9)"
   ]
  },
  {
   "cell_type": "code",
   "execution_count": 144,
   "id": "nonprofit-sustainability",
   "metadata": {},
   "outputs": [
    {
     "data": {
      "text/plain": [
       "'4.29%'"
      ]
     },
     "execution_count": 144,
     "metadata": {},
     "output_type": "execute_result"
    }
   ],
   "source": [
    "gsdpbi.pop(9)"
   ]
  },
  {
   "cell_type": "code",
   "execution_count": 145,
   "id": "virgin-certificate",
   "metadata": {},
   "outputs": [
    {
     "data": {
      "text/plain": [
       "'561,801'"
      ]
     },
     "execution_count": 145,
     "metadata": {},
     "output_type": "execute_result"
    }
   ],
   "source": [
    "gsdpbi.pop(10)"
   ]
  },
  {
   "cell_type": "code",
   "execution_count": 146,
   "id": "labeled-vampire",
   "metadata": {},
   "outputs": [
    {
     "data": {
      "text/plain": [
       "'522,009'"
      ]
     },
     "execution_count": 146,
     "metadata": {},
     "output_type": "execute_result"
    }
   ],
   "source": [
    "gsdpbi.pop(10)"
   ]
  },
  {
   "cell_type": "code",
   "execution_count": 147,
   "id": "laughing-comfort",
   "metadata": {},
   "outputs": [
    {
     "data": {
      "text/plain": [
       "'-'"
      ]
     },
     "execution_count": 147,
     "metadata": {},
     "output_type": "execute_result"
    }
   ],
   "source": [
    "gsdpbi.pop(10)"
   ]
  },
  {
   "cell_type": "code",
   "execution_count": 148,
   "id": "announced-reasoning",
   "metadata": {},
   "outputs": [
    {
     "data": {
      "text/plain": [
       "'4.14%'"
      ]
     },
     "execution_count": 148,
     "metadata": {},
     "output_type": "execute_result"
    }
   ],
   "source": [
    "gsdpbi.pop(10)"
   ]
  },
  {
   "cell_type": "code",
   "execution_count": 149,
   "id": "happy-webster",
   "metadata": {},
   "outputs": [
    {
     "data": {
      "text/plain": [
       "['399.921',\n",
       " '247.629',\n",
       " '240.726',\n",
       " '228.290',\n",
       " '226.806',\n",
       " '165.556',\n",
       " '143.179',\n",
       " '131.083',\n",
       " '130.791',\n",
       " '122.977']"
      ]
     },
     "execution_count": 149,
     "metadata": {},
     "output_type": "execute_result"
    }
   ],
   "source": [
    "gsdpbi[0:10]"
   ]
  },
  {
   "cell_type": "code",
   "execution_count": 156,
   "id": "contrary-netherlands",
   "metadata": {},
   "outputs": [],
   "source": [
    "import pandas as pd\n",
    "stats=pd.DataFrame({})\n",
    "stats['Rank']=ranks[0:20]\n",
    "stats['States']=names[0:20]\n",
    "stats['GSDP19']=gsdp19[0:20]\n",
    "stats['GSDP18']=gsdp18[0:20]\n",
    "stats['GSDPBI']=gsdp18[0:20]"
   ]
  },
  {
   "cell_type": "code",
   "execution_count": 157,
   "id": "complex-queen",
   "metadata": {},
   "outputs": [
    {
     "data": {
      "text/html": [
       "<div>\n",
       "<style scoped>\n",
       "    .dataframe tbody tr th:only-of-type {\n",
       "        vertical-align: middle;\n",
       "    }\n",
       "\n",
       "    .dataframe tbody tr th {\n",
       "        vertical-align: top;\n",
       "    }\n",
       "\n",
       "    .dataframe thead th {\n",
       "        text-align: right;\n",
       "    }\n",
       "</style>\n",
       "<table border=\"1\" class=\"dataframe\">\n",
       "  <thead>\n",
       "    <tr style=\"text-align: right;\">\n",
       "      <th></th>\n",
       "      <th>Rank</th>\n",
       "      <th>States</th>\n",
       "      <th>GSDP19</th>\n",
       "      <th>GSDP18</th>\n",
       "      <th>GSDPBI</th>\n",
       "    </tr>\n",
       "  </thead>\n",
       "  <tbody>\n",
       "    <tr>\n",
       "      <th>0</th>\n",
       "      <td>1</td>\n",
       "      <td>Maharashtra</td>\n",
       "      <td>-</td>\n",
       "      <td>2,632,792</td>\n",
       "      <td>2,632,792</td>\n",
       "    </tr>\n",
       "    <tr>\n",
       "      <th>1</th>\n",
       "      <td>2</td>\n",
       "      <td>Tamil Nadu</td>\n",
       "      <td>1,845,853</td>\n",
       "      <td>1,630,208</td>\n",
       "      <td>1,630,208</td>\n",
       "    </tr>\n",
       "    <tr>\n",
       "      <th>2</th>\n",
       "      <td>3</td>\n",
       "      <td>Uttar Pradesh</td>\n",
       "      <td>1,687,818</td>\n",
       "      <td>1,584,764</td>\n",
       "      <td>1,584,764</td>\n",
       "    </tr>\n",
       "    <tr>\n",
       "      <th>3</th>\n",
       "      <td>4</td>\n",
       "      <td>Gujarat</td>\n",
       "      <td>1,631,977</td>\n",
       "      <td>1,502,899</td>\n",
       "      <td>1,502,899</td>\n",
       "    </tr>\n",
       "    <tr>\n",
       "      <th>4</th>\n",
       "      <td>5</td>\n",
       "      <td>Karnataka</td>\n",
       "      <td>1,253,832</td>\n",
       "      <td>1,493,127</td>\n",
       "      <td>1,493,127</td>\n",
       "    </tr>\n",
       "    <tr>\n",
       "      <th>5</th>\n",
       "      <td>6</td>\n",
       "      <td>West Bengal</td>\n",
       "      <td>1,020,989</td>\n",
       "      <td>1,089,898</td>\n",
       "      <td>1,089,898</td>\n",
       "    </tr>\n",
       "    <tr>\n",
       "      <th>6</th>\n",
       "      <td>7</td>\n",
       "      <td>Rajasthan</td>\n",
       "      <td>972,782</td>\n",
       "      <td>942,586</td>\n",
       "      <td>942,586</td>\n",
       "    </tr>\n",
       "    <tr>\n",
       "      <th>7</th>\n",
       "      <td>8</td>\n",
       "      <td>Andhra Pradesh</td>\n",
       "      <td>969,604</td>\n",
       "      <td>862,957</td>\n",
       "      <td>862,957</td>\n",
       "    </tr>\n",
       "    <tr>\n",
       "      <th>8</th>\n",
       "      <td>9</td>\n",
       "      <td>Telangana</td>\n",
       "      <td>906,672</td>\n",
       "      <td>861,031</td>\n",
       "      <td>861,031</td>\n",
       "    </tr>\n",
       "    <tr>\n",
       "      <th>9</th>\n",
       "      <td>10</td>\n",
       "      <td>Madhya Pradesh</td>\n",
       "      <td>-</td>\n",
       "      <td>809,592</td>\n",
       "      <td>809,592</td>\n",
       "    </tr>\n",
       "    <tr>\n",
       "      <th>10</th>\n",
       "      <td>11</td>\n",
       "      <td>Kerala</td>\n",
       "      <td>856,112</td>\n",
       "      <td>781,653</td>\n",
       "      <td>781,653</td>\n",
       "    </tr>\n",
       "    <tr>\n",
       "      <th>11</th>\n",
       "      <td>12</td>\n",
       "      <td>Delhi</td>\n",
       "      <td>4.10%</td>\n",
       "      <td>774,870</td>\n",
       "      <td>774,870</td>\n",
       "    </tr>\n",
       "    <tr>\n",
       "      <th>12</th>\n",
       "      <td>13</td>\n",
       "      <td>Haryana</td>\n",
       "      <td>117.703</td>\n",
       "      <td>734,163</td>\n",
       "      <td>734,163</td>\n",
       "    </tr>\n",
       "    <tr>\n",
       "      <th>13</th>\n",
       "      <td>14</td>\n",
       "      <td>Bihar</td>\n",
       "      <td>634,408</td>\n",
       "      <td>530,363</td>\n",
       "      <td>530,363</td>\n",
       "    </tr>\n",
       "    <tr>\n",
       "      <th>14</th>\n",
       "      <td>15</td>\n",
       "      <td>Punjab</td>\n",
       "      <td>590,569</td>\n",
       "      <td>526,376</td>\n",
       "      <td>526,376</td>\n",
       "    </tr>\n",
       "    <tr>\n",
       "      <th>15</th>\n",
       "      <td>16</td>\n",
       "      <td>Odisha</td>\n",
       "      <td>831,610</td>\n",
       "      <td>487,805</td>\n",
       "      <td>487,805</td>\n",
       "    </tr>\n",
       "    <tr>\n",
       "      <th>16</th>\n",
       "      <td>17</td>\n",
       "      <td>Assam</td>\n",
       "      <td>3.89%</td>\n",
       "      <td>315,881</td>\n",
       "      <td>315,881</td>\n",
       "    </tr>\n",
       "    <tr>\n",
       "      <th>17</th>\n",
       "      <td>18</td>\n",
       "      <td>Chhattisgarh</td>\n",
       "      <td>111.519</td>\n",
       "      <td>304,063</td>\n",
       "      <td>304,063</td>\n",
       "    </tr>\n",
       "    <tr>\n",
       "      <th>18</th>\n",
       "      <td>19</td>\n",
       "      <td>Jharkhand</td>\n",
       "      <td>572,240</td>\n",
       "      <td>297,204</td>\n",
       "      <td>297,204</td>\n",
       "    </tr>\n",
       "    <tr>\n",
       "      <th>19</th>\n",
       "      <td>20</td>\n",
       "      <td>Uttarakhand</td>\n",
       "      <td>531,085</td>\n",
       "      <td>245,895</td>\n",
       "      <td>245,895</td>\n",
       "    </tr>\n",
       "  </tbody>\n",
       "</table>\n",
       "</div>"
      ],
      "text/plain": [
       "   Rank          States     GSDP19     GSDP18     GSDPBI\n",
       "0     1     Maharashtra          -  2,632,792  2,632,792\n",
       "1     2      Tamil Nadu  1,845,853  1,630,208  1,630,208\n",
       "2     3   Uttar Pradesh  1,687,818  1,584,764  1,584,764\n",
       "3     4         Gujarat  1,631,977  1,502,899  1,502,899\n",
       "4     5       Karnataka  1,253,832  1,493,127  1,493,127\n",
       "5     6     West Bengal  1,020,989  1,089,898  1,089,898\n",
       "6     7       Rajasthan    972,782    942,586    942,586\n",
       "7     8  Andhra Pradesh    969,604    862,957    862,957\n",
       "8     9       Telangana    906,672    861,031    861,031\n",
       "9    10  Madhya Pradesh          -    809,592    809,592\n",
       "10   11          Kerala    856,112    781,653    781,653\n",
       "11   12           Delhi      4.10%    774,870    774,870\n",
       "12   13         Haryana    117.703    734,163    734,163\n",
       "13   14           Bihar    634,408    530,363    530,363\n",
       "14   15          Punjab    590,569    526,376    526,376\n",
       "15   16          Odisha    831,610    487,805    487,805\n",
       "16   17           Assam      3.89%    315,881    315,881\n",
       "17   18    Chhattisgarh    111.519    304,063    304,063\n",
       "18   19       Jharkhand    572,240    297,204    297,204\n",
       "19   20     Uttarakhand    531,085    245,895    245,895"
      ]
     },
     "execution_count": 157,
     "metadata": {},
     "output_type": "execute_result"
    }
   ],
   "source": [
    "stats"
   ]
  },
  {
   "cell_type": "code",
   "execution_count": null,
   "id": "equal-revision",
   "metadata": {},
   "outputs": [],
   "source": []
  }
 ],
 "metadata": {
  "kernelspec": {
   "display_name": "Python 3",
   "language": "python",
   "name": "python3"
  },
  "language_info": {
   "codemirror_mode": {
    "name": "ipython",
    "version": 3
   },
   "file_extension": ".py",
   "mimetype": "text/x-python",
   "name": "python",
   "nbconvert_exporter": "python",
   "pygments_lexer": "ipython3",
   "version": "3.9.2"
  }
 },
 "nbformat": 4,
 "nbformat_minor": 5
}
